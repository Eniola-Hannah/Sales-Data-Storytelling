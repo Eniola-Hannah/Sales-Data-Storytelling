{
 "cells": [
  {
   "cell_type": "markdown",
   "id": "c56de4b3",
   "metadata": {},
   "source": [
    "## Sales Data Analysis: Uncovering Trends and Insights from a Real-World Sales Dataset\n",
    "\n",
    "In today’s competitive market, data-driven decision-making is crucial for businesses to optimize their sales strategies. Sales data contains valuable insights that can help organizations understand customer behavior, identify seasonal trends, and improve overall performance. By analyzing a real-world sales dataset, businesses can make informed decisions to boost revenue and enhance customer satisfaction.\n",
    "\n",
    "## Objective\n",
    "\n",
    "Your analysis in this mini project will focus on cleaning, exploring, and visualizing a sales dataset to extract meaningful insights using python and data visualization libraries.\n",
    "\n",
    "## About the Dataset\n",
    "\n",
    "The **[dataset](https://drive.google.com/file/d/1V6HTxMsNQswvL_K39UWB7dh8Un8f4oz7/view?usp=sharing)** used in this analysis is a real-world sales dataset containing transaction records from a retail business. It includes the following key features:\n",
    "\n",
    "- `OrderID`: The id of the order that was placed.\n",
    "- `Date`: The date the order was placed.\n",
    "- `CustomerID`: The customer ID that represents the customer who made the purchase.\n",
    "- `Product`: The class of product that was purchased.\n",
    "- `Quantity`: The quantity of the product that was purchased.\n",
    "- `Price`: Unit price of the product in dollars.\n",
    "- `Total`: The total cost of the purchase in dollars.\n"
   ]
  },
  {
   "cell_type": "code",
   "execution_count": 1,
   "id": "bb0edc3e",
   "metadata": {},
   "outputs": [],
   "source": [
    "import pandas as pd"
   ]
  },
  {
   "cell_type": "code",
   "execution_count": 2,
   "id": "f131149a",
   "metadata": {},
   "outputs": [
    {
     "data": {
      "text/html": [
       "<div>\n",
       "<style scoped>\n",
       "    .dataframe tbody tr th:only-of-type {\n",
       "        vertical-align: middle;\n",
       "    }\n",
       "\n",
       "    .dataframe tbody tr th {\n",
       "        vertical-align: top;\n",
       "    }\n",
       "\n",
       "    .dataframe thead th {\n",
       "        text-align: right;\n",
       "    }\n",
       "</style>\n",
       "<table border=\"1\" class=\"dataframe\">\n",
       "  <thead>\n",
       "    <tr style=\"text-align: right;\">\n",
       "      <th></th>\n",
       "      <th>OrderID</th>\n",
       "      <th>Date</th>\n",
       "      <th>CustomerID</th>\n",
       "      <th>Product</th>\n",
       "      <th>Quantity</th>\n",
       "      <th>Price</th>\n",
       "      <th>Total</th>\n",
       "    </tr>\n",
       "  </thead>\n",
       "  <tbody>\n",
       "    <tr>\n",
       "      <th>0</th>\n",
       "      <td>1</td>\n",
       "      <td>2024-04-12</td>\n",
       "      <td>C002</td>\n",
       "      <td>Phone</td>\n",
       "      <td>1</td>\n",
       "      <td>600</td>\n",
       "      <td>642.09</td>\n",
       "    </tr>\n",
       "    <tr>\n",
       "      <th>1</th>\n",
       "      <td>2</td>\n",
       "      <td>2024-12-14</td>\n",
       "      <td>C003</td>\n",
       "      <td>Laptop</td>\n",
       "      <td>2</td>\n",
       "      <td>1000</td>\n",
       "      <td>2098.39</td>\n",
       "    </tr>\n",
       "    <tr>\n",
       "      <th>2</th>\n",
       "      <td>3</td>\n",
       "      <td>2024-09-27</td>\n",
       "      <td>C017</td>\n",
       "      <td>Monitor</td>\n",
       "      <td>1</td>\n",
       "      <td>200</td>\n",
       "      <td>196.34</td>\n",
       "    </tr>\n",
       "    <tr>\n",
       "      <th>3</th>\n",
       "      <td>4</td>\n",
       "      <td>2024-04-16</td>\n",
       "      <td>C005</td>\n",
       "      <td>Phone</td>\n",
       "      <td>3</td>\n",
       "      <td>600</td>\n",
       "      <td>1955.86</td>\n",
       "    </tr>\n",
       "    <tr>\n",
       "      <th>4</th>\n",
       "      <td>5</td>\n",
       "      <td>2024-03-12</td>\n",
       "      <td>C017</td>\n",
       "      <td>Laptop</td>\n",
       "      <td>1</td>\n",
       "      <td>1000</td>\n",
       "      <td>1098.19</td>\n",
       "    </tr>\n",
       "  </tbody>\n",
       "</table>\n",
       "</div>"
      ],
      "text/plain": [
       "   OrderID        Date CustomerID  Product  Quantity  Price    Total\n",
       "0        1  2024-04-12       C002    Phone         1    600   642.09\n",
       "1        2  2024-12-14       C003   Laptop         2   1000  2098.39\n",
       "2        3  2024-09-27       C017  Monitor         1    200   196.34\n",
       "3        4  2024-04-16       C005    Phone         3    600  1955.86\n",
       "4        5  2024-03-12       C017   Laptop         1   1000  1098.19"
      ]
     },
     "execution_count": 2,
     "metadata": {},
     "output_type": "execute_result"
    }
   ],
   "source": [
    "df = pd.read_csv(\"Dataset.csv\")\n",
    "df.head()"
   ]
  },
  {
   "cell_type": "markdown",
   "id": "0ac0de36",
   "metadata": {},
   "source": [
    "# Data Cleaning"
   ]
  },
  {
   "cell_type": "code",
   "execution_count": 3,
   "id": "6631a3cb",
   "metadata": {},
   "outputs": [
    {
     "name": "stdout",
     "output_type": "stream",
     "text": [
      "<class 'pandas.core.frame.DataFrame'>\n",
      "RangeIndex: 200 entries, 0 to 199\n",
      "Data columns (total 7 columns):\n",
      " #   Column      Non-Null Count  Dtype  \n",
      "---  ------      --------------  -----  \n",
      " 0   OrderID     200 non-null    int64  \n",
      " 1   Date        200 non-null    object \n",
      " 2   CustomerID  200 non-null    object \n",
      " 3   Product     190 non-null    object \n",
      " 4   Quantity    200 non-null    int64  \n",
      " 5   Price       200 non-null    int64  \n",
      " 6   Total       194 non-null    float64\n",
      "dtypes: float64(1), int64(3), object(3)\n",
      "memory usage: 11.1+ KB\n"
     ]
    }
   ],
   "source": [
    "df.info()"
   ]
  },
  {
   "cell_type": "code",
   "execution_count": 4,
   "id": "62f55824",
   "metadata": {},
   "outputs": [
    {
     "data": {
      "text/plain": [
       "OrderID        0\n",
       "Date           0\n",
       "CustomerID     0\n",
       "Product       10\n",
       "Quantity       0\n",
       "Price          0\n",
       "Total          6\n",
       "dtype: int64"
      ]
     },
     "execution_count": 4,
     "metadata": {},
     "output_type": "execute_result"
    }
   ],
   "source": [
    "df.isnull().sum()"
   ]
  },
  {
   "cell_type": "code",
   "execution_count": 5,
   "id": "748dd1af",
   "metadata": {},
   "outputs": [
    {
     "data": {
      "text/html": [
       "<div>\n",
       "<style scoped>\n",
       "    .dataframe tbody tr th:only-of-type {\n",
       "        vertical-align: middle;\n",
       "    }\n",
       "\n",
       "    .dataframe tbody tr th {\n",
       "        vertical-align: top;\n",
       "    }\n",
       "\n",
       "    .dataframe thead th {\n",
       "        text-align: right;\n",
       "    }\n",
       "</style>\n",
       "<table border=\"1\" class=\"dataframe\">\n",
       "  <thead>\n",
       "    <tr style=\"text-align: right;\">\n",
       "      <th></th>\n",
       "      <th>OrderID</th>\n",
       "      <th>Date</th>\n",
       "      <th>CustomerID</th>\n",
       "      <th>Product</th>\n",
       "      <th>Quantity</th>\n",
       "      <th>Price</th>\n",
       "      <th>Total</th>\n",
       "    </tr>\n",
       "  </thead>\n",
       "  <tbody>\n",
       "  </tbody>\n",
       "</table>\n",
       "</div>"
      ],
      "text/plain": [
       "Empty DataFrame\n",
       "Columns: [OrderID, Date, CustomerID, Product, Quantity, Price, Total]\n",
       "Index: []"
      ]
     },
     "execution_count": 5,
     "metadata": {},
     "output_type": "execute_result"
    }
   ],
   "source": [
    "P_map = {600:'Phone', 1000:'Laptop', 200:'Monitor', 400:'Tablet', 100:'Headphones'}\n",
    "\n",
    "df['Product'] = df['Product'].fillna(df['Price'].map(P_map))\n",
    "\n",
    "df[df[\"Product\"].isnull()]"
   ]
  },
  {
   "cell_type": "code",
   "execution_count": 6,
   "id": "139235cb",
   "metadata": {},
   "outputs": [
    {
     "data": {
      "text/html": [
       "<div>\n",
       "<style scoped>\n",
       "    .dataframe tbody tr th:only-of-type {\n",
       "        vertical-align: middle;\n",
       "    }\n",
       "\n",
       "    .dataframe tbody tr th {\n",
       "        vertical-align: top;\n",
       "    }\n",
       "\n",
       "    .dataframe thead th {\n",
       "        text-align: right;\n",
       "    }\n",
       "</style>\n",
       "<table border=\"1\" class=\"dataframe\">\n",
       "  <thead>\n",
       "    <tr style=\"text-align: right;\">\n",
       "      <th></th>\n",
       "      <th>OrderID</th>\n",
       "      <th>Date</th>\n",
       "      <th>CustomerID</th>\n",
       "      <th>Product</th>\n",
       "      <th>Quantity</th>\n",
       "      <th>Price</th>\n",
       "      <th>Total</th>\n",
       "    </tr>\n",
       "  </thead>\n",
       "  <tbody>\n",
       "  </tbody>\n",
       "</table>\n",
       "</div>"
      ],
      "text/plain": [
       "Empty DataFrame\n",
       "Columns: [OrderID, Date, CustomerID, Product, Quantity, Price, Total]\n",
       "Index: []"
      ]
     },
     "execution_count": 6,
     "metadata": {},
     "output_type": "execute_result"
    }
   ],
   "source": [
    "df['Total'] = df['Total'].fillna(df['Quantity']*df['Price'])\n",
    "\n",
    "df[df[\"Total\"].isnull()]"
   ]
  },
  {
   "cell_type": "code",
   "execution_count": 7,
   "id": "5653037c",
   "metadata": {},
   "outputs": [
    {
     "data": {
      "text/plain": [
       "OrderID       0\n",
       "Date          0\n",
       "CustomerID    0\n",
       "Product       0\n",
       "Quantity      0\n",
       "Price         0\n",
       "Total         0\n",
       "dtype: int64"
      ]
     },
     "execution_count": 7,
     "metadata": {},
     "output_type": "execute_result"
    }
   ],
   "source": [
    "df.isnull().sum()"
   ]
  },
  {
   "cell_type": "code",
   "execution_count": 8,
   "id": "f02e025c",
   "metadata": {},
   "outputs": [
    {
     "data": {
      "text/html": [
       "<div>\n",
       "<style scoped>\n",
       "    .dataframe tbody tr th:only-of-type {\n",
       "        vertical-align: middle;\n",
       "    }\n",
       "\n",
       "    .dataframe tbody tr th {\n",
       "        vertical-align: top;\n",
       "    }\n",
       "\n",
       "    .dataframe thead th {\n",
       "        text-align: right;\n",
       "    }\n",
       "</style>\n",
       "<table border=\"1\" class=\"dataframe\">\n",
       "  <thead>\n",
       "    <tr style=\"text-align: right;\">\n",
       "      <th></th>\n",
       "      <th>OrderID</th>\n",
       "      <th>Date</th>\n",
       "      <th>CustomerID</th>\n",
       "      <th>Product</th>\n",
       "      <th>Quantity</th>\n",
       "      <th>Price</th>\n",
       "      <th>Total</th>\n",
       "    </tr>\n",
       "  </thead>\n",
       "  <tbody>\n",
       "  </tbody>\n",
       "</table>\n",
       "</div>"
      ],
      "text/plain": [
       "Empty DataFrame\n",
       "Columns: [OrderID, Date, CustomerID, Product, Quantity, Price, Total]\n",
       "Index: []"
      ]
     },
     "execution_count": 8,
     "metadata": {},
     "output_type": "execute_result"
    }
   ],
   "source": [
    "df[df.duplicated()]"
   ]
  },
  {
   "cell_type": "code",
   "execution_count": 9,
   "id": "883ec687",
   "metadata": {
    "scrolled": true
   },
   "outputs": [
    {
     "name": "stdout",
     "output_type": "stream",
     "text": [
      "<class 'pandas.core.frame.DataFrame'>\n",
      "RangeIndex: 200 entries, 0 to 199\n",
      "Data columns (total 7 columns):\n",
      " #   Column      Non-Null Count  Dtype         \n",
      "---  ------      --------------  -----         \n",
      " 0   OrderID     200 non-null    int64         \n",
      " 1   Date        200 non-null    datetime64[ns]\n",
      " 2   CustomerID  200 non-null    object        \n",
      " 3   Product     200 non-null    object        \n",
      " 4   Quantity    200 non-null    int64         \n",
      " 5   Price       200 non-null    int64         \n",
      " 6   Total       200 non-null    float64       \n",
      "dtypes: datetime64[ns](1), float64(1), int64(3), object(2)\n",
      "memory usage: 11.1+ KB\n"
     ]
    }
   ],
   "source": [
    "df['Date'] = pd.to_datetime(df['Date'], format='%Y-%m-%d')\n",
    "\n",
    "df.info()"
   ]
  },
  {
   "cell_type": "code",
   "execution_count": 10,
   "id": "9fa9b1c3",
   "metadata": {},
   "outputs": [],
   "source": [
    "df.to_csv(\"Clean_Dataset.csv\", index=False)"
   ]
  },
  {
   "cell_type": "markdown",
   "id": "ff37eb82",
   "metadata": {},
   "source": [
    "# Exploratory Analysis"
   ]
  },
  {
   "cell_type": "code",
   "execution_count": 11,
   "id": "cfac5ec7",
   "metadata": {},
   "outputs": [
    {
     "data": {
      "text/html": [
       "<div>\n",
       "<style scoped>\n",
       "    .dataframe tbody tr th:only-of-type {\n",
       "        vertical-align: middle;\n",
       "    }\n",
       "\n",
       "    .dataframe tbody tr th {\n",
       "        vertical-align: top;\n",
       "    }\n",
       "\n",
       "    .dataframe thead th {\n",
       "        text-align: right;\n",
       "    }\n",
       "</style>\n",
       "<table border=\"1\" class=\"dataframe\">\n",
       "  <thead>\n",
       "    <tr style=\"text-align: right;\">\n",
       "      <th></th>\n",
       "      <th>OrderID</th>\n",
       "      <th>Date</th>\n",
       "      <th>Quantity</th>\n",
       "      <th>Price</th>\n",
       "      <th>Total</th>\n",
       "    </tr>\n",
       "  </thead>\n",
       "  <tbody>\n",
       "    <tr>\n",
       "      <th>count</th>\n",
       "      <td>200.000000</td>\n",
       "      <td>200</td>\n",
       "      <td>200.00000</td>\n",
       "      <td>200.000000</td>\n",
       "      <td>200.000000</td>\n",
       "    </tr>\n",
       "    <tr>\n",
       "      <th>mean</th>\n",
       "      <td>100.500000</td>\n",
       "      <td>2024-07-06 23:09:36</td>\n",
       "      <td>1.36500</td>\n",
       "      <td>676.000000</td>\n",
       "      <td>933.009550</td>\n",
       "    </tr>\n",
       "    <tr>\n",
       "      <th>min</th>\n",
       "      <td>1.000000</td>\n",
       "      <td>2024-01-02 00:00:00</td>\n",
       "      <td>1.00000</td>\n",
       "      <td>100.000000</td>\n",
       "      <td>93.310000</td>\n",
       "    </tr>\n",
       "    <tr>\n",
       "      <th>25%</th>\n",
       "      <td>50.750000</td>\n",
       "      <td>2024-04-08 18:00:00</td>\n",
       "      <td>1.00000</td>\n",
       "      <td>400.000000</td>\n",
       "      <td>564.002500</td>\n",
       "    </tr>\n",
       "    <tr>\n",
       "      <th>50%</th>\n",
       "      <td>100.500000</td>\n",
       "      <td>2024-07-09 12:00:00</td>\n",
       "      <td>1.00000</td>\n",
       "      <td>600.000000</td>\n",
       "      <td>838.350000</td>\n",
       "    </tr>\n",
       "    <tr>\n",
       "      <th>75%</th>\n",
       "      <td>150.250000</td>\n",
       "      <td>2024-09-27 18:00:00</td>\n",
       "      <td>2.00000</td>\n",
       "      <td>1000.000000</td>\n",
       "      <td>1062.367500</td>\n",
       "    </tr>\n",
       "    <tr>\n",
       "      <th>max</th>\n",
       "      <td>200.000000</td>\n",
       "      <td>2024-12-29 00:00:00</td>\n",
       "      <td>3.00000</td>\n",
       "      <td>1000.000000</td>\n",
       "      <td>3293.240000</td>\n",
       "    </tr>\n",
       "    <tr>\n",
       "      <th>std</th>\n",
       "      <td>57.879185</td>\n",
       "      <td>NaN</td>\n",
       "      <td>0.61943</td>\n",
       "      <td>300.291316</td>\n",
       "      <td>647.446344</td>\n",
       "    </tr>\n",
       "  </tbody>\n",
       "</table>\n",
       "</div>"
      ],
      "text/plain": [
       "          OrderID                 Date   Quantity        Price        Total\n",
       "count  200.000000                  200  200.00000   200.000000   200.000000\n",
       "mean   100.500000  2024-07-06 23:09:36    1.36500   676.000000   933.009550\n",
       "min      1.000000  2024-01-02 00:00:00    1.00000   100.000000    93.310000\n",
       "25%     50.750000  2024-04-08 18:00:00    1.00000   400.000000   564.002500\n",
       "50%    100.500000  2024-07-09 12:00:00    1.00000   600.000000   838.350000\n",
       "75%    150.250000  2024-09-27 18:00:00    2.00000  1000.000000  1062.367500\n",
       "max    200.000000  2024-12-29 00:00:00    3.00000  1000.000000  3293.240000\n",
       "std     57.879185                  NaN    0.61943   300.291316   647.446344"
      ]
     },
     "execution_count": 11,
     "metadata": {},
     "output_type": "execute_result"
    }
   ],
   "source": [
    "df.describe()"
   ]
  },
  {
   "cell_type": "code",
   "execution_count": 12,
   "id": "fc90e5b1",
   "metadata": {},
   "outputs": [
    {
     "data": {
      "text/html": [
       "<div>\n",
       "<style scoped>\n",
       "    .dataframe tbody tr th:only-of-type {\n",
       "        vertical-align: middle;\n",
       "    }\n",
       "\n",
       "    .dataframe tbody tr th {\n",
       "        vertical-align: top;\n",
       "    }\n",
       "\n",
       "    .dataframe thead th {\n",
       "        text-align: right;\n",
       "    }\n",
       "</style>\n",
       "<table border=\"1\" class=\"dataframe\">\n",
       "  <thead>\n",
       "    <tr style=\"text-align: right;\">\n",
       "      <th></th>\n",
       "      <th>CustomerID</th>\n",
       "      <th>Product</th>\n",
       "    </tr>\n",
       "  </thead>\n",
       "  <tbody>\n",
       "    <tr>\n",
       "      <th>count</th>\n",
       "      <td>200</td>\n",
       "      <td>200</td>\n",
       "    </tr>\n",
       "    <tr>\n",
       "      <th>unique</th>\n",
       "      <td>20</td>\n",
       "      <td>5</td>\n",
       "    </tr>\n",
       "    <tr>\n",
       "      <th>top</th>\n",
       "      <td>C003</td>\n",
       "      <td>Laptop</td>\n",
       "    </tr>\n",
       "    <tr>\n",
       "      <th>freq</th>\n",
       "      <td>17</td>\n",
       "      <td>81</td>\n",
       "    </tr>\n",
       "  </tbody>\n",
       "</table>\n",
       "</div>"
      ],
      "text/plain": [
       "       CustomerID Product\n",
       "count         200     200\n",
       "unique         20       5\n",
       "top          C003  Laptop\n",
       "freq           17      81"
      ]
     },
     "execution_count": 12,
     "metadata": {},
     "output_type": "execute_result"
    }
   ],
   "source": [
    "df.describe(include='object')"
   ]
  },
  {
   "cell_type": "code",
   "execution_count": 88,
   "id": "be143c72",
   "metadata": {},
   "outputs": [
    {
     "name": "stdout",
     "output_type": "stream",
     "text": [
      "Product Available: ['Phone' 'Laptop' 'Monitor' 'Tablet' 'Headphones']\n"
     ]
    }
   ],
   "source": [
    "# Different products available?\n",
    "\n",
    "print('Product Available:', df['Product'].unique())"
   ]
  },
  {
   "cell_type": "code",
   "execution_count": 84,
   "id": "bb434ffc",
   "metadata": {},
   "outputs": [
    {
     "data": {
      "text/html": [
       "<div>\n",
       "<style scoped>\n",
       "    .dataframe tbody tr th:only-of-type {\n",
       "        vertical-align: middle;\n",
       "    }\n",
       "\n",
       "    .dataframe tbody tr th {\n",
       "        vertical-align: top;\n",
       "    }\n",
       "\n",
       "    .dataframe thead th {\n",
       "        text-align: right;\n",
       "    }\n",
       "</style>\n",
       "<table border=\"1\" class=\"dataframe\">\n",
       "  <thead>\n",
       "    <tr style=\"text-align: right;\">\n",
       "      <th></th>\n",
       "      <th>Value</th>\n",
       "    </tr>\n",
       "  </thead>\n",
       "  <tbody>\n",
       "    <tr>\n",
       "      <th>Number of sales record:</th>\n",
       "      <td>200</td>\n",
       "    </tr>\n",
       "  </tbody>\n",
       "</table>\n",
       "</div>"
      ],
      "text/plain": [
       "                         Value\n",
       "Number of sales record:    200"
      ]
     },
     "execution_count": 84,
     "metadata": {},
     "output_type": "execute_result"
    }
   ],
   "source": [
    "# How many Order records do we have in the dataset?\n",
    "\n",
    "count = pd.Series(df['OrderID'].count(), index=['Number of sales record:']).to_frame(name='Value')\n",
    "count"
   ]
  },
  {
   "cell_type": "code",
   "execution_count": 83,
   "id": "b9a7a7d9",
   "metadata": {},
   "outputs": [
    {
     "data": {
      "text/html": [
       "<div>\n",
       "<style scoped>\n",
       "    .dataframe tbody tr th:only-of-type {\n",
       "        vertical-align: middle;\n",
       "    }\n",
       "\n",
       "    .dataframe tbody tr th {\n",
       "        vertical-align: top;\n",
       "    }\n",
       "\n",
       "    .dataframe thead th {\n",
       "        text-align: right;\n",
       "    }\n",
       "</style>\n",
       "<table border=\"1\" class=\"dataframe\">\n",
       "  <thead>\n",
       "    <tr style=\"text-align: right;\">\n",
       "      <th></th>\n",
       "      <th>Value</th>\n",
       "    </tr>\n",
       "  </thead>\n",
       "  <tbody>\n",
       "    <tr>\n",
       "      <th>Total Revenue in the year 2014:</th>\n",
       "      <td>186601.91</td>\n",
       "    </tr>\n",
       "  </tbody>\n",
       "</table>\n",
       "</div>"
      ],
      "text/plain": [
       "                                     Value\n",
       "Total Revenue in the year 2014:  186601.91"
      ]
     },
     "execution_count": 83,
     "metadata": {},
     "output_type": "execute_result"
    }
   ],
   "source": [
    "# Total Revenue in the year 2014\n",
    "\n",
    "rev = df['Total'].sum().round(2)\n",
    "\n",
    "revenue = pd.Series(rev, index=['Total Revenue in the year 2014:']).to_frame(name='Value')\n",
    "revenue"
   ]
  },
  {
   "cell_type": "code",
   "execution_count": 85,
   "id": "2f7a899a",
   "metadata": {},
   "outputs": [
    {
     "data": {
      "text/plain": [
       "Product\n",
       "Laptop        81\n",
       "Phone         63\n",
       "Tablet        31\n",
       "Monitor       15\n",
       "Headphones    10\n",
       "Name: count, dtype: int64"
      ]
     },
     "execution_count": 85,
     "metadata": {},
     "output_type": "execute_result"
    }
   ],
   "source": [
    "# Sales Count of products\n",
    "\n",
    "df['Product'].value_counts()"
   ]
  },
  {
   "cell_type": "code",
   "execution_count": 30,
   "id": "cb4d6c60",
   "metadata": {},
   "outputs": [
    {
     "data": {
      "text/html": [
       "<div>\n",
       "<style scoped>\n",
       "    .dataframe tbody tr th:only-of-type {\n",
       "        vertical-align: middle;\n",
       "    }\n",
       "\n",
       "    .dataframe tbody tr th {\n",
       "        vertical-align: top;\n",
       "    }\n",
       "\n",
       "    .dataframe thead th {\n",
       "        text-align: right;\n",
       "    }\n",
       "</style>\n",
       "<table border=\"1\" class=\"dataframe\">\n",
       "  <thead>\n",
       "    <tr style=\"text-align: right;\">\n",
       "      <th></th>\n",
       "      <th>CustomerID</th>\n",
       "      <th>count</th>\n",
       "    </tr>\n",
       "  </thead>\n",
       "  <tbody>\n",
       "    <tr>\n",
       "      <th>0</th>\n",
       "      <td>C003</td>\n",
       "      <td>17</td>\n",
       "    </tr>\n",
       "    <tr>\n",
       "      <th>1</th>\n",
       "      <td>C001</td>\n",
       "      <td>17</td>\n",
       "    </tr>\n",
       "    <tr>\n",
       "      <th>2</th>\n",
       "      <td>C016</td>\n",
       "      <td>16</td>\n",
       "    </tr>\n",
       "    <tr>\n",
       "      <th>3</th>\n",
       "      <td>C020</td>\n",
       "      <td>14</td>\n",
       "    </tr>\n",
       "    <tr>\n",
       "      <th>4</th>\n",
       "      <td>C017</td>\n",
       "      <td>14</td>\n",
       "    </tr>\n",
       "    <tr>\n",
       "      <th>5</th>\n",
       "      <td>C002</td>\n",
       "      <td>12</td>\n",
       "    </tr>\n",
       "    <tr>\n",
       "      <th>6</th>\n",
       "      <td>C019</td>\n",
       "      <td>11</td>\n",
       "    </tr>\n",
       "    <tr>\n",
       "      <th>7</th>\n",
       "      <td>C008</td>\n",
       "      <td>11</td>\n",
       "    </tr>\n",
       "    <tr>\n",
       "      <th>8</th>\n",
       "      <td>C006</td>\n",
       "      <td>10</td>\n",
       "    </tr>\n",
       "    <tr>\n",
       "      <th>9</th>\n",
       "      <td>C005</td>\n",
       "      <td>10</td>\n",
       "    </tr>\n",
       "  </tbody>\n",
       "</table>\n",
       "</div>"
      ],
      "text/plain": [
       "  CustomerID  count\n",
       "0       C003     17\n",
       "1       C001     17\n",
       "2       C016     16\n",
       "3       C020     14\n",
       "4       C017     14\n",
       "5       C002     12\n",
       "6       C019     11\n",
       "7       C008     11\n",
       "8       C006     10\n",
       "9       C005     10"
      ]
     },
     "execution_count": 30,
     "metadata": {},
     "output_type": "execute_result"
    }
   ],
   "source": [
    "# Top 10 Customers\n",
    "\n",
    "df['CustomerID'].value_counts()[:10].reset_index()"
   ]
  },
  {
   "cell_type": "code",
   "execution_count": 17,
   "id": "8f7855e1",
   "metadata": {},
   "outputs": [
    {
     "data": {
      "text/html": [
       "<div>\n",
       "<style scoped>\n",
       "    .dataframe tbody tr th:only-of-type {\n",
       "        vertical-align: middle;\n",
       "    }\n",
       "\n",
       "    .dataframe tbody tr th {\n",
       "        vertical-align: top;\n",
       "    }\n",
       "\n",
       "    .dataframe thead th {\n",
       "        text-align: right;\n",
       "    }\n",
       "</style>\n",
       "<table border=\"1\" class=\"dataframe\">\n",
       "  <thead>\n",
       "    <tr style=\"text-align: right;\">\n",
       "      <th></th>\n",
       "      <th>OrderID</th>\n",
       "      <th>Date</th>\n",
       "      <th>CustomerID</th>\n",
       "      <th>Product</th>\n",
       "      <th>Quantity</th>\n",
       "      <th>Price</th>\n",
       "      <th>Total</th>\n",
       "      <th>Day</th>\n",
       "    </tr>\n",
       "  </thead>\n",
       "  <tbody>\n",
       "    <tr>\n",
       "      <th>0</th>\n",
       "      <td>1</td>\n",
       "      <td>2024-04-12</td>\n",
       "      <td>C002</td>\n",
       "      <td>Phone</td>\n",
       "      <td>1</td>\n",
       "      <td>600</td>\n",
       "      <td>642.09</td>\n",
       "      <td>Friday</td>\n",
       "    </tr>\n",
       "    <tr>\n",
       "      <th>1</th>\n",
       "      <td>2</td>\n",
       "      <td>2024-12-14</td>\n",
       "      <td>C003</td>\n",
       "      <td>Laptop</td>\n",
       "      <td>2</td>\n",
       "      <td>1000</td>\n",
       "      <td>2098.39</td>\n",
       "      <td>Saturday</td>\n",
       "    </tr>\n",
       "    <tr>\n",
       "      <th>2</th>\n",
       "      <td>3</td>\n",
       "      <td>2024-09-27</td>\n",
       "      <td>C017</td>\n",
       "      <td>Monitor</td>\n",
       "      <td>1</td>\n",
       "      <td>200</td>\n",
       "      <td>196.34</td>\n",
       "      <td>Friday</td>\n",
       "    </tr>\n",
       "    <tr>\n",
       "      <th>3</th>\n",
       "      <td>4</td>\n",
       "      <td>2024-04-16</td>\n",
       "      <td>C005</td>\n",
       "      <td>Phone</td>\n",
       "      <td>3</td>\n",
       "      <td>600</td>\n",
       "      <td>1955.86</td>\n",
       "      <td>Tuesday</td>\n",
       "    </tr>\n",
       "    <tr>\n",
       "      <th>4</th>\n",
       "      <td>5</td>\n",
       "      <td>2024-03-12</td>\n",
       "      <td>C017</td>\n",
       "      <td>Laptop</td>\n",
       "      <td>1</td>\n",
       "      <td>1000</td>\n",
       "      <td>1098.19</td>\n",
       "      <td>Tuesday</td>\n",
       "    </tr>\n",
       "  </tbody>\n",
       "</table>\n",
       "</div>"
      ],
      "text/plain": [
       "   OrderID       Date CustomerID  Product  Quantity  Price    Total       Day\n",
       "0        1 2024-04-12       C002    Phone         1    600   642.09    Friday\n",
       "1        2 2024-12-14       C003   Laptop         2   1000  2098.39  Saturday\n",
       "2        3 2024-09-27       C017  Monitor         1    200   196.34    Friday\n",
       "3        4 2024-04-16       C005    Phone         3    600  1955.86   Tuesday\n",
       "4        5 2024-03-12       C017   Laptop         1   1000  1098.19   Tuesday"
      ]
     },
     "execution_count": 17,
     "metadata": {},
     "output_type": "execute_result"
    }
   ],
   "source": [
    "# Adds the day name of the purchase\n",
    "\n",
    "df['Day'] = df['Date'].dt.day_name()\n",
    "\n",
    "df.head()"
   ]
  },
  {
   "cell_type": "code",
   "execution_count": 18,
   "id": "7ef42a30",
   "metadata": {},
   "outputs": [
    {
     "data": {
      "text/html": [
       "<div>\n",
       "<style scoped>\n",
       "    .dataframe tbody tr th:only-of-type {\n",
       "        vertical-align: middle;\n",
       "    }\n",
       "\n",
       "    .dataframe tbody tr th {\n",
       "        vertical-align: top;\n",
       "    }\n",
       "\n",
       "    .dataframe thead th {\n",
       "        text-align: right;\n",
       "    }\n",
       "</style>\n",
       "<table border=\"1\" class=\"dataframe\">\n",
       "  <thead>\n",
       "    <tr style=\"text-align: right;\">\n",
       "      <th></th>\n",
       "      <th>OrderID</th>\n",
       "      <th>Date</th>\n",
       "      <th>CustomerID</th>\n",
       "      <th>Product</th>\n",
       "      <th>Quantity</th>\n",
       "      <th>Price</th>\n",
       "      <th>Total</th>\n",
       "      <th>Day</th>\n",
       "      <th>Month</th>\n",
       "    </tr>\n",
       "  </thead>\n",
       "  <tbody>\n",
       "    <tr>\n",
       "      <th>0</th>\n",
       "      <td>1</td>\n",
       "      <td>2024-04-12</td>\n",
       "      <td>C002</td>\n",
       "      <td>Phone</td>\n",
       "      <td>1</td>\n",
       "      <td>600</td>\n",
       "      <td>642.09</td>\n",
       "      <td>Friday</td>\n",
       "      <td>April</td>\n",
       "    </tr>\n",
       "    <tr>\n",
       "      <th>1</th>\n",
       "      <td>2</td>\n",
       "      <td>2024-12-14</td>\n",
       "      <td>C003</td>\n",
       "      <td>Laptop</td>\n",
       "      <td>2</td>\n",
       "      <td>1000</td>\n",
       "      <td>2098.39</td>\n",
       "      <td>Saturday</td>\n",
       "      <td>December</td>\n",
       "    </tr>\n",
       "    <tr>\n",
       "      <th>2</th>\n",
       "      <td>3</td>\n",
       "      <td>2024-09-27</td>\n",
       "      <td>C017</td>\n",
       "      <td>Monitor</td>\n",
       "      <td>1</td>\n",
       "      <td>200</td>\n",
       "      <td>196.34</td>\n",
       "      <td>Friday</td>\n",
       "      <td>September</td>\n",
       "    </tr>\n",
       "    <tr>\n",
       "      <th>3</th>\n",
       "      <td>4</td>\n",
       "      <td>2024-04-16</td>\n",
       "      <td>C005</td>\n",
       "      <td>Phone</td>\n",
       "      <td>3</td>\n",
       "      <td>600</td>\n",
       "      <td>1955.86</td>\n",
       "      <td>Tuesday</td>\n",
       "      <td>April</td>\n",
       "    </tr>\n",
       "    <tr>\n",
       "      <th>4</th>\n",
       "      <td>5</td>\n",
       "      <td>2024-03-12</td>\n",
       "      <td>C017</td>\n",
       "      <td>Laptop</td>\n",
       "      <td>1</td>\n",
       "      <td>1000</td>\n",
       "      <td>1098.19</td>\n",
       "      <td>Tuesday</td>\n",
       "      <td>March</td>\n",
       "    </tr>\n",
       "  </tbody>\n",
       "</table>\n",
       "</div>"
      ],
      "text/plain": [
       "   OrderID       Date CustomerID  Product  Quantity  Price    Total       Day  \\\n",
       "0        1 2024-04-12       C002    Phone         1    600   642.09    Friday   \n",
       "1        2 2024-12-14       C003   Laptop         2   1000  2098.39  Saturday   \n",
       "2        3 2024-09-27       C017  Monitor         1    200   196.34    Friday   \n",
       "3        4 2024-04-16       C005    Phone         3    600  1955.86   Tuesday   \n",
       "4        5 2024-03-12       C017   Laptop         1   1000  1098.19   Tuesday   \n",
       "\n",
       "       Month  \n",
       "0      April  \n",
       "1   December  \n",
       "2  September  \n",
       "3      April  \n",
       "4      March  "
      ]
     },
     "execution_count": 18,
     "metadata": {},
     "output_type": "execute_result"
    }
   ],
   "source": [
    "# Adds the month of the purchase\n",
    "\n",
    "df['Month'] = df['Date'].dt.month_name()\n",
    "\n",
    "df.head()"
   ]
  },
  {
   "cell_type": "code",
   "execution_count": 27,
   "id": "76a1eb64",
   "metadata": {},
   "outputs": [
    {
     "data": {
      "text/html": [
       "<div>\n",
       "<style scoped>\n",
       "    .dataframe tbody tr th:only-of-type {\n",
       "        vertical-align: middle;\n",
       "    }\n",
       "\n",
       "    .dataframe tbody tr th {\n",
       "        vertical-align: top;\n",
       "    }\n",
       "\n",
       "    .dataframe thead th {\n",
       "        text-align: right;\n",
       "    }\n",
       "</style>\n",
       "<table border=\"1\" class=\"dataframe\">\n",
       "  <thead>\n",
       "    <tr style=\"text-align: right;\">\n",
       "      <th></th>\n",
       "      <th>Total</th>\n",
       "    </tr>\n",
       "    <tr>\n",
       "      <th>Month</th>\n",
       "      <th></th>\n",
       "    </tr>\n",
       "  </thead>\n",
       "  <tbody>\n",
       "    <tr>\n",
       "      <th>December</th>\n",
       "      <td>21722.82</td>\n",
       "    </tr>\n",
       "    <tr>\n",
       "      <th>August</th>\n",
       "      <td>18018.66</td>\n",
       "    </tr>\n",
       "    <tr>\n",
       "      <th>November</th>\n",
       "      <td>16908.88</td>\n",
       "    </tr>\n",
       "    <tr>\n",
       "      <th>April</th>\n",
       "      <td>15942.33</td>\n",
       "    </tr>\n",
       "    <tr>\n",
       "      <th>October</th>\n",
       "      <td>15905.58</td>\n",
       "    </tr>\n",
       "    <tr>\n",
       "      <th>February</th>\n",
       "      <td>15593.58</td>\n",
       "    </tr>\n",
       "    <tr>\n",
       "      <th>May</th>\n",
       "      <td>15425.28</td>\n",
       "    </tr>\n",
       "    <tr>\n",
       "      <th>June</th>\n",
       "      <td>15249.31</td>\n",
       "    </tr>\n",
       "    <tr>\n",
       "      <th>July</th>\n",
       "      <td>14710.40</td>\n",
       "    </tr>\n",
       "    <tr>\n",
       "      <th>September</th>\n",
       "      <td>14576.32</td>\n",
       "    </tr>\n",
       "    <tr>\n",
       "      <th>March</th>\n",
       "      <td>13793.66</td>\n",
       "    </tr>\n",
       "    <tr>\n",
       "      <th>January</th>\n",
       "      <td>8755.09</td>\n",
       "    </tr>\n",
       "  </tbody>\n",
       "</table>\n",
       "</div>"
      ],
      "text/plain": [
       "              Total\n",
       "Month              \n",
       "December   21722.82\n",
       "August     18018.66\n",
       "November   16908.88\n",
       "April      15942.33\n",
       "October    15905.58\n",
       "February   15593.58\n",
       "May        15425.28\n",
       "June       15249.31\n",
       "July       14710.40\n",
       "September  14576.32\n",
       "March      13793.66\n",
       "January     8755.09"
      ]
     },
     "execution_count": 27,
     "metadata": {},
     "output_type": "execute_result"
    }
   ],
   "source": [
    "# Monthly Sales\n",
    "\n",
    "monthly_sales = df.groupby('Month')[['Total']].sum().sort_values(ascending=False, by='Total')\n",
    "monthly_sales"
   ]
  },
  {
   "cell_type": "code",
   "execution_count": 24,
   "id": "ed08fbe9",
   "metadata": {},
   "outputs": [
    {
     "data": {
      "text/html": [
       "<div>\n",
       "<style scoped>\n",
       "    .dataframe tbody tr th:only-of-type {\n",
       "        vertical-align: middle;\n",
       "    }\n",
       "\n",
       "    .dataframe tbody tr th {\n",
       "        vertical-align: top;\n",
       "    }\n",
       "\n",
       "    .dataframe thead th {\n",
       "        text-align: right;\n",
       "    }\n",
       "</style>\n",
       "<table border=\"1\" class=\"dataframe\">\n",
       "  <thead>\n",
       "    <tr style=\"text-align: right;\">\n",
       "      <th></th>\n",
       "      <th>Day</th>\n",
       "      <th>Total</th>\n",
       "    </tr>\n",
       "  </thead>\n",
       "  <tbody>\n",
       "    <tr>\n",
       "      <th>0</th>\n",
       "      <td>Wednesday</td>\n",
       "      <td>1183.50</td>\n",
       "    </tr>\n",
       "    <tr>\n",
       "      <th>1</th>\n",
       "      <td>Thursday</td>\n",
       "      <td>1011.56</td>\n",
       "    </tr>\n",
       "    <tr>\n",
       "      <th>2</th>\n",
       "      <td>Monday</td>\n",
       "      <td>979.83</td>\n",
       "    </tr>\n",
       "    <tr>\n",
       "      <th>3</th>\n",
       "      <td>Saturday</td>\n",
       "      <td>942.26</td>\n",
       "    </tr>\n",
       "    <tr>\n",
       "      <th>4</th>\n",
       "      <td>Sunday</td>\n",
       "      <td>942.22</td>\n",
       "    </tr>\n",
       "    <tr>\n",
       "      <th>5</th>\n",
       "      <td>Tuesday</td>\n",
       "      <td>905.56</td>\n",
       "    </tr>\n",
       "    <tr>\n",
       "      <th>6</th>\n",
       "      <td>Friday</td>\n",
       "      <td>604.17</td>\n",
       "    </tr>\n",
       "  </tbody>\n",
       "</table>\n",
       "</div>"
      ],
      "text/plain": [
       "         Day    Total\n",
       "0  Wednesday  1183.50\n",
       "1   Thursday  1011.56\n",
       "2     Monday   979.83\n",
       "3   Saturday   942.26\n",
       "4     Sunday   942.22\n",
       "5    Tuesday   905.56\n",
       "6     Friday   604.17"
      ]
     },
     "execution_count": 24,
     "metadata": {},
     "output_type": "execute_result"
    }
   ],
   "source": [
    "# average sales by day\n",
    "\n",
    "daily_avg_sales = df.groupby('Day')['Total'].apply('mean').round(2).sort_values(ascending=False).reset_index()\n",
    "daily_avg_sales"
   ]
  },
  {
   "cell_type": "code",
   "execution_count": 41,
   "id": "ba171a7d",
   "metadata": {},
   "outputs": [
    {
     "data": {
      "text/html": [
       "<div>\n",
       "<style scoped>\n",
       "    .dataframe tbody tr th:only-of-type {\n",
       "        vertical-align: middle;\n",
       "    }\n",
       "\n",
       "    .dataframe tbody tr th {\n",
       "        vertical-align: top;\n",
       "    }\n",
       "\n",
       "    .dataframe thead th {\n",
       "        text-align: right;\n",
       "    }\n",
       "</style>\n",
       "<table border=\"1\" class=\"dataframe\">\n",
       "  <thead>\n",
       "    <tr style=\"text-align: right;\">\n",
       "      <th></th>\n",
       "      <th>Product</th>\n",
       "      <th>Total</th>\n",
       "    </tr>\n",
       "  </thead>\n",
       "  <tbody>\n",
       "    <tr>\n",
       "      <th>0</th>\n",
       "      <td>Laptop</td>\n",
       "      <td>114529.57</td>\n",
       "    </tr>\n",
       "    <tr>\n",
       "      <th>1</th>\n",
       "      <td>Phone</td>\n",
       "      <td>49211.36</td>\n",
       "    </tr>\n",
       "    <tr>\n",
       "      <th>2</th>\n",
       "      <td>Tablet</td>\n",
       "      <td>17119.23</td>\n",
       "    </tr>\n",
       "  </tbody>\n",
       "</table>\n",
       "</div>"
      ],
      "text/plain": [
       "  Product      Total\n",
       "0  Laptop  114529.57\n",
       "1   Phone   49211.36\n",
       "2  Tablet   17119.23"
      ]
     },
     "execution_count": 41,
     "metadata": {},
     "output_type": "execute_result"
    }
   ],
   "source": [
    "# Top 3 Product that drives the revenue\n",
    "\n",
    "df.groupby('Product')['Total'].sum().sort_values(ascending=False).reset_index()[:3]"
   ]
  },
  {
   "cell_type": "code",
   "execution_count": 46,
   "id": "d320d0e7",
   "metadata": {},
   "outputs": [
    {
     "data": {
      "text/html": [
       "<div>\n",
       "<style scoped>\n",
       "    .dataframe tbody tr th:only-of-type {\n",
       "        vertical-align: middle;\n",
       "    }\n",
       "\n",
       "    .dataframe tbody tr th {\n",
       "        vertical-align: top;\n",
       "    }\n",
       "\n",
       "    .dataframe thead th {\n",
       "        text-align: right;\n",
       "    }\n",
       "</style>\n",
       "<table border=\"1\" class=\"dataframe\">\n",
       "  <thead>\n",
       "    <tr style=\"text-align: right;\">\n",
       "      <th></th>\n",
       "      <th>Value</th>\n",
       "    </tr>\n",
       "  </thead>\n",
       "  <tbody>\n",
       "    <tr>\n",
       "      <th>Minimum Sales</th>\n",
       "      <td>93.31</td>\n",
       "    </tr>\n",
       "  </tbody>\n",
       "</table>\n",
       "</div>"
      ],
      "text/plain": [
       "               Value\n",
       "Minimum Sales  93.31"
      ]
     },
     "execution_count": 46,
     "metadata": {},
     "output_type": "execute_result"
    }
   ],
   "source": [
    "# Minimum Sales\n",
    "\n",
    "mini = df['Total'].min()\n",
    "\n",
    "min_cost = pd.Series(mini, index=['Minimum Sales']).to_frame(name='Value')\n",
    "min_cost"
   ]
  },
  {
   "cell_type": "code",
   "execution_count": null,
   "id": "e1e446fb",
   "metadata": {},
   "outputs": [],
   "source": [
    "# Minimum Sales\n",
    "\n",
    "mini = df['Total'].min()\n",
    "\n",
    "min_cost = pd.Series(mini, index=['Minimum Sales']).to_frame(name='Value')\n",
    "min_cost"
   ]
  },
  {
   "cell_type": "code",
   "execution_count": 42,
   "id": "c421cb7e",
   "metadata": {},
   "outputs": [
    {
     "data": {
      "text/html": [
       "<div>\n",
       "<style scoped>\n",
       "    .dataframe tbody tr th:only-of-type {\n",
       "        vertical-align: middle;\n",
       "    }\n",
       "\n",
       "    .dataframe tbody tr th {\n",
       "        vertical-align: top;\n",
       "    }\n",
       "\n",
       "    .dataframe thead th {\n",
       "        text-align: right;\n",
       "    }\n",
       "</style>\n",
       "<table border=\"1\" class=\"dataframe\">\n",
       "  <thead>\n",
       "    <tr style=\"text-align: right;\">\n",
       "      <th>Month</th>\n",
       "      <th>April</th>\n",
       "      <th>August</th>\n",
       "      <th>December</th>\n",
       "      <th>February</th>\n",
       "      <th>January</th>\n",
       "      <th>July</th>\n",
       "      <th>June</th>\n",
       "      <th>March</th>\n",
       "      <th>May</th>\n",
       "      <th>November</th>\n",
       "      <th>October</th>\n",
       "      <th>September</th>\n",
       "    </tr>\n",
       "    <tr>\n",
       "      <th>Product</th>\n",
       "      <th></th>\n",
       "      <th></th>\n",
       "      <th></th>\n",
       "      <th></th>\n",
       "      <th></th>\n",
       "      <th></th>\n",
       "      <th></th>\n",
       "      <th></th>\n",
       "      <th></th>\n",
       "      <th></th>\n",
       "      <th></th>\n",
       "      <th></th>\n",
       "    </tr>\n",
       "  </thead>\n",
       "  <tbody>\n",
       "    <tr>\n",
       "      <th>Headphones</th>\n",
       "      <td>NaN</td>\n",
       "      <td>304.28</td>\n",
       "      <td>297.11</td>\n",
       "      <td>298.59</td>\n",
       "      <td>322.75</td>\n",
       "      <td>103.66</td>\n",
       "      <td>NaN</td>\n",
       "      <td>NaN</td>\n",
       "      <td>NaN</td>\n",
       "      <td>NaN</td>\n",
       "      <td>NaN</td>\n",
       "      <td>NaN</td>\n",
       "    </tr>\n",
       "    <tr>\n",
       "      <th>Laptop</th>\n",
       "      <td>9980.84</td>\n",
       "      <td>7319.49</td>\n",
       "      <td>15723.98</td>\n",
       "      <td>7842.08</td>\n",
       "      <td>4731.51</td>\n",
       "      <td>9502.27</td>\n",
       "      <td>10291.04</td>\n",
       "      <td>9265.59</td>\n",
       "      <td>7741.31</td>\n",
       "      <td>11260.79</td>\n",
       "      <td>11022.39</td>\n",
       "      <td>9848.28</td>\n",
       "    </tr>\n",
       "    <tr>\n",
       "      <th>Monitor</th>\n",
       "      <td>808.92</td>\n",
       "      <td>927.05</td>\n",
       "      <td>202.27</td>\n",
       "      <td>836.43</td>\n",
       "      <td>NaN</td>\n",
       "      <td>403.43</td>\n",
       "      <td>407.38</td>\n",
       "      <td>NaN</td>\n",
       "      <td>NaN</td>\n",
       "      <td>419.11</td>\n",
       "      <td>NaN</td>\n",
       "      <td>410.77</td>\n",
       "    </tr>\n",
       "    <tr>\n",
       "      <th>Phone</th>\n",
       "      <td>4325.53</td>\n",
       "      <td>6659.62</td>\n",
       "      <td>5499.46</td>\n",
       "      <td>5440.57</td>\n",
       "      <td>2477.05</td>\n",
       "      <td>1845.86</td>\n",
       "      <td>4148.34</td>\n",
       "      <td>2547.68</td>\n",
       "      <td>6041.64</td>\n",
       "      <td>4797.01</td>\n",
       "      <td>2405.14</td>\n",
       "      <td>3023.46</td>\n",
       "    </tr>\n",
       "    <tr>\n",
       "      <th>Tablet</th>\n",
       "      <td>827.04</td>\n",
       "      <td>2808.22</td>\n",
       "      <td>NaN</td>\n",
       "      <td>1175.91</td>\n",
       "      <td>1223.78</td>\n",
       "      <td>2855.18</td>\n",
       "      <td>402.55</td>\n",
       "      <td>1980.39</td>\n",
       "      <td>1642.33</td>\n",
       "      <td>431.97</td>\n",
       "      <td>2478.05</td>\n",
       "      <td>1293.81</td>\n",
       "    </tr>\n",
       "  </tbody>\n",
       "</table>\n",
       "</div>"
      ],
      "text/plain": [
       "Month         April   August  December  February  January     July      June  \\\n",
       "Product                                                                        \n",
       "Headphones      NaN   304.28    297.11    298.59   322.75   103.66       NaN   \n",
       "Laptop      9980.84  7319.49  15723.98   7842.08  4731.51  9502.27  10291.04   \n",
       "Monitor      808.92   927.05    202.27    836.43      NaN   403.43    407.38   \n",
       "Phone       4325.53  6659.62   5499.46   5440.57  2477.05  1845.86   4148.34   \n",
       "Tablet       827.04  2808.22       NaN   1175.91  1223.78  2855.18    402.55   \n",
       "\n",
       "Month         March      May  November   October  September  \n",
       "Product                                                      \n",
       "Headphones      NaN      NaN       NaN       NaN        NaN  \n",
       "Laptop      9265.59  7741.31  11260.79  11022.39    9848.28  \n",
       "Monitor         NaN      NaN    419.11       NaN     410.77  \n",
       "Phone       2547.68  6041.64   4797.01   2405.14    3023.46  \n",
       "Tablet      1980.39  1642.33    431.97   2478.05    1293.81  "
      ]
     },
     "execution_count": 42,
     "metadata": {},
     "output_type": "execute_result"
    }
   ],
   "source": [
    "# Product Sales across the month\n",
    "\n",
    "df.pivot_table('Total', 'Product', 'Month', aggfunc={'Total':sum})"
   ]
  },
  {
   "cell_type": "markdown",
   "id": "ab412e77",
   "metadata": {},
   "source": [
    "# Visualization"
   ]
  },
  {
   "cell_type": "code",
   "execution_count": 98,
   "id": "5357a110",
   "metadata": {},
   "outputs": [],
   "source": [
    "import matplotlib.pyplot as plt\n",
    "from matplotlib import cm\n",
    "import seaborn as sns"
   ]
  },
  {
   "cell_type": "code",
   "execution_count": 63,
   "id": "c5d64ca5",
   "metadata": {},
   "outputs": [
    {
     "data": {
      "image/png": "[encoded data removed]",
      "text/plain": [
       "<Figure size 504x360 with 1 Axes>"
      ]
     },
     "metadata": {
      "needs_background": "light"
     },
     "output_type": "display_data"
    }
   ],
   "source": [
    "# Products With the highest Revenue?\n",
    "\n",
    "font=\"Times New Roman\"\n",
    "\n",
    "plt.figure(figsize=(7,5))\n",
    "\n",
    "# plt.bar(df['Product'], df['Total'].sort_values(ascending=False), color='c')\n",
    "plt.bar(df['Product'], df['Total'], color='c')\n",
    "plt.title(\"Visualization of Product by Sales\", fontname=font, fontsize=30)\n",
    "plt.xlabel(\"Products\", fontname=font, fontsize=25)\n",
    "plt.ylabel(\"Total Sales\", fontname=font, fontsize=25)\n",
    "\n",
    "plt.show()"
   ]
  },
  {
   "cell_type": "code",
   "execution_count": 61,
   "id": "26fd1d4e",
   "metadata": {},
   "outputs": [
    {
     "data": {
      "image/png": "[encoded data removed]",
      "text/plain": [
       "<Figure size 504x360 with 1 Axes>"
      ]
     },
     "metadata": {
      "needs_background": "light"
     },
     "output_type": "display_data"
    }
   ],
   "source": [
    "# Most sold products?    product.valuecount*quantity(where name is same)\n",
    "\n",
    "font=\"Times New Roman\"\n",
    "\n",
    "plt.figure(figsize=(7,5))\n",
    "\n",
    "plt.bar(df['Product'], df['Quantity'], color='m')\n",
    "plt.title(\"Most sold(in Quantity) products\", fontname=font, fontsize=30)\n",
    "plt.xlabel(\"Products\", fontname=font, fontsize=25)\n",
    "plt.ylabel(\"Quanities Sold\", fontname=font, fontsize=25)\n",
    "\n",
    "plt.show()"
   ]
  },
  {
   "cell_type": "code",
   "execution_count": 142,
   "id": "64781d39",
   "metadata": {},
   "outputs": [
    {
     "data": {
      "text/html": [
       "<div>\n",
       "<style scoped>\n",
       "    .dataframe tbody tr th:only-of-type {\n",
       "        vertical-align: middle;\n",
       "    }\n",
       "\n",
       "    .dataframe tbody tr th {\n",
       "        vertical-align: top;\n",
       "    }\n",
       "\n",
       "    .dataframe thead th {\n",
       "        text-align: right;\n",
       "    }\n",
       "</style>\n",
       "<table border=\"1\" class=\"dataframe\">\n",
       "  <thead>\n",
       "    <tr style=\"text-align: right;\">\n",
       "      <th></th>\n",
       "      <th>Month</th>\n",
       "      <th>Total</th>\n",
       "      <th>Month_Name</th>\n",
       "    </tr>\n",
       "  </thead>\n",
       "  <tbody>\n",
       "    <tr>\n",
       "      <th>0</th>\n",
       "      <td>1</td>\n",
       "      <td>8755.09</td>\n",
       "      <td>January</td>\n",
       "    </tr>\n",
       "    <tr>\n",
       "      <th>1</th>\n",
       "      <td>2</td>\n",
       "      <td>15593.58</td>\n",
       "      <td>February</td>\n",
       "    </tr>\n",
       "    <tr>\n",
       "      <th>2</th>\n",
       "      <td>3</td>\n",
       "      <td>13793.66</td>\n",
       "      <td>March</td>\n",
       "    </tr>\n",
       "    <tr>\n",
       "      <th>3</th>\n",
       "      <td>4</td>\n",
       "      <td>15942.33</td>\n",
       "      <td>April</td>\n",
       "    </tr>\n",
       "    <tr>\n",
       "      <th>4</th>\n",
       "      <td>5</td>\n",
       "      <td>15425.28</td>\n",
       "      <td>May</td>\n",
       "    </tr>\n",
       "    <tr>\n",
       "      <th>5</th>\n",
       "      <td>6</td>\n",
       "      <td>15249.31</td>\n",
       "      <td>June</td>\n",
       "    </tr>\n",
       "    <tr>\n",
       "      <th>6</th>\n",
       "      <td>7</td>\n",
       "      <td>14710.40</td>\n",
       "      <td>July</td>\n",
       "    </tr>\n",
       "    <tr>\n",
       "      <th>7</th>\n",
       "      <td>8</td>\n",
       "      <td>18018.66</td>\n",
       "      <td>August</td>\n",
       "    </tr>\n",
       "    <tr>\n",
       "      <th>8</th>\n",
       "      <td>9</td>\n",
       "      <td>14576.32</td>\n",
       "      <td>September</td>\n",
       "    </tr>\n",
       "    <tr>\n",
       "      <th>9</th>\n",
       "      <td>10</td>\n",
       "      <td>15905.58</td>\n",
       "      <td>October</td>\n",
       "    </tr>\n",
       "    <tr>\n",
       "      <th>10</th>\n",
       "      <td>11</td>\n",
       "      <td>16908.88</td>\n",
       "      <td>November</td>\n",
       "    </tr>\n",
       "    <tr>\n",
       "      <th>11</th>\n",
       "      <td>12</td>\n",
       "      <td>21722.82</td>\n",
       "      <td>December</td>\n",
       "    </tr>\n",
       "  </tbody>\n",
       "</table>\n",
       "</div>"
      ],
      "text/plain": [
       "    Month     Total Month_Name\n",
       "0       1   8755.09    January\n",
       "1       2  15593.58   February\n",
       "2       3  13793.66      March\n",
       "3       4  15942.33      April\n",
       "4       5  15425.28        May\n",
       "5       6  15249.31       June\n",
       "6       7  14710.40       July\n",
       "7       8  18018.66     August\n",
       "8       9  14576.32  September\n",
       "9      10  15905.58    October\n",
       "10     11  16908.88   November\n",
       "11     12  21722.82   December"
      ]
     },
     "execution_count": 142,
     "metadata": {},
     "output_type": "execute_result"
    }
   ],
   "source": [
    "# Mapping of Month Name to Month Number to make it in order\n",
    "\n",
    "monthly_sales = df.groupby(df['Date'].dt.month)['Total'].sum().reset_index()\n",
    "monthly_sales.columns = ['Month', 'Total']\n",
    "\n",
    "m_mapping = {1:'January', 2:'February', 3:'March', 4:'April', 5:'May', 6:'June', 7:'July', 8:'August', 9:'September', 10:'October', 11:'November', 12:'December'}\n",
    "monthly_sales['Month_Name'] = monthly_sales['Month'].map(m_mapping)\n",
    "\n",
    "monthly_sales"
   ]
  },
  {
   "cell_type": "code",
   "execution_count": 145,
   "id": "54c97495",
   "metadata": {},
   "outputs": [
    {
     "data": {
      "image/png": "[encoded data removed]",
      "text/plain": [
       "<Figure size 720x360 with 1 Axes>"
      ]
     },
     "metadata": {
      "needs_background": "light"
     },
     "output_type": "display_data"
    }
   ],
   "source": [
    "plt.figure(figsize=(10, 5))\n",
    "\n",
    "font=\"Times New Roman\"\n",
    "\n",
    "plt.plot(monthly_sales['Month_Name'].values, monthly_sales['Total'].values, marker='o', color='g')\n",
    "plt.title('Monthly Sales Trend', fontname=font, fontsize=30)\n",
    "plt.xlabel('Month', fontname=font, fontsize=25)\n",
    "plt.ylabel('Total Sales', fontname=font, fontsize=25)\n",
    "plt.grid(True)\n",
    "plt.tight_layout()\n",
    "plt.show()"
   ]
  },
  {
   "cell_type": "code",
   "execution_count": 122,
   "id": "fe61d7f2",
   "metadata": {},
   "outputs": [
    {
     "data": {
      "image/png": "[encoded data removed]",
      "text/plain": [
       "<Figure size 432x432 with 1 Axes>"
      ]
     },
     "metadata": {},
     "output_type": "display_data"
    }
   ],
   "source": [
    "# Revenue contribution by products\n",
    "\n",
    "plt.figure(figsize=(6, 6))\n",
    "\n",
    "p_revenue = df.groupby('Product')['Total'].sum().sort_values(ascending=False)\n",
    "\n",
    "explode = [0, 0, 0, 0, 0.09]\n",
    "colors = cm.Reds_r([0.1, 0.3, 0.5, 0.7, 0.9])\n",
    "\n",
    "plt.pie(p_revenue.values,explode=explode, autopct='%.2f%%', colors=colors, shadow=True, startangle=90)\n",
    "plt.title(\"Revenue contribution by products\", fontname='Times New Roman', fontsize=25)\n",
    "plt.legend(labels=p_revenue.index)\n",
    "plt.tight_layout()"
   ]
  },
  {
   "cell_type": "code",
   "execution_count": 123,
   "id": "8a151ac5",
   "metadata": {},
   "outputs": [
    {
     "data": {
      "text/html": [
       "<div>\n",
       "<style scoped>\n",
       "    .dataframe tbody tr th:only-of-type {\n",
       "        vertical-align: middle;\n",
       "    }\n",
       "\n",
       "    .dataframe tbody tr th {\n",
       "        vertical-align: top;\n",
       "    }\n",
       "\n",
       "    .dataframe thead th {\n",
       "        text-align: right;\n",
       "    }\n",
       "</style>\n",
       "<table border=\"1\" class=\"dataframe\">\n",
       "  <thead>\n",
       "    <tr style=\"text-align: right;\">\n",
       "      <th></th>\n",
       "      <th>OrderID</th>\n",
       "      <th>Date</th>\n",
       "      <th>CustomerID</th>\n",
       "      <th>Product</th>\n",
       "      <th>Quantity</th>\n",
       "      <th>Price</th>\n",
       "      <th>Total</th>\n",
       "      <th>Day</th>\n",
       "      <th>Month</th>\n",
       "    </tr>\n",
       "  </thead>\n",
       "  <tbody>\n",
       "    <tr>\n",
       "      <th>0</th>\n",
       "      <td>1</td>\n",
       "      <td>2024-04-12</td>\n",
       "      <td>C002</td>\n",
       "      <td>Phone</td>\n",
       "      <td>1</td>\n",
       "      <td>600</td>\n",
       "      <td>642.09</td>\n",
       "      <td>Friday</td>\n",
       "      <td>April</td>\n",
       "    </tr>\n",
       "    <tr>\n",
       "      <th>1</th>\n",
       "      <td>2</td>\n",
       "      <td>2024-12-14</td>\n",
       "      <td>C003</td>\n",
       "      <td>Laptop</td>\n",
       "      <td>2</td>\n",
       "      <td>1000</td>\n",
       "      <td>2098.39</td>\n",
       "      <td>Saturday</td>\n",
       "      <td>December</td>\n",
       "    </tr>\n",
       "    <tr>\n",
       "      <th>2</th>\n",
       "      <td>3</td>\n",
       "      <td>2024-09-27</td>\n",
       "      <td>C017</td>\n",
       "      <td>Monitor</td>\n",
       "      <td>1</td>\n",
       "      <td>200</td>\n",
       "      <td>196.34</td>\n",
       "      <td>Friday</td>\n",
       "      <td>September</td>\n",
       "    </tr>\n",
       "    <tr>\n",
       "      <th>3</th>\n",
       "      <td>4</td>\n",
       "      <td>2024-04-16</td>\n",
       "      <td>C005</td>\n",
       "      <td>Phone</td>\n",
       "      <td>3</td>\n",
       "      <td>600</td>\n",
       "      <td>1955.86</td>\n",
       "      <td>Tuesday</td>\n",
       "      <td>April</td>\n",
       "    </tr>\n",
       "    <tr>\n",
       "      <th>4</th>\n",
       "      <td>5</td>\n",
       "      <td>2024-03-12</td>\n",
       "      <td>C017</td>\n",
       "      <td>Laptop</td>\n",
       "      <td>1</td>\n",
       "      <td>1000</td>\n",
       "      <td>1098.19</td>\n",
       "      <td>Tuesday</td>\n",
       "      <td>March</td>\n",
       "    </tr>\n",
       "  </tbody>\n",
       "</table>\n",
       "</div>"
      ],
      "text/plain": [
       "   OrderID       Date CustomerID  Product  Quantity  Price    Total       Day  \\\n",
       "0        1 2024-04-12       C002    Phone         1    600   642.09    Friday   \n",
       "1        2 2024-12-14       C003   Laptop         2   1000  2098.39  Saturday   \n",
       "2        3 2024-09-27       C017  Monitor         1    200   196.34    Friday   \n",
       "3        4 2024-04-16       C005    Phone         3    600  1955.86   Tuesday   \n",
       "4        5 2024-03-12       C017   Laptop         1   1000  1098.19   Tuesday   \n",
       "\n",
       "       Month  \n",
       "0      April  \n",
       "1   December  \n",
       "2  September  \n",
       "3      April  \n",
       "4      March  "
      ]
     },
     "execution_count": 123,
     "metadata": {},
     "output_type": "execute_result"
    }
   ],
   "source": [
    "df.head()"
   ]
  },
  {
   "cell_type": "code",
   "execution_count": 148,
   "id": "766861ae",
   "metadata": {},
   "outputs": [
    {
     "data": {
      "text/plain": [
       "Text(0.5, 1.0, 'Quantity vs Total (Jittered)')"
      ]
     },
     "execution_count": 148,
     "metadata": {},
     "output_type": "execute_result"
    },
    {
     "data": {
      "image/png": "[encoded data removed]",
      "text/plain": [
       "<Figure size 432x288 with 1 Axes>"
      ]
     },
     "metadata": {
      "needs_background": "light"
     },
     "output_type": "display_data"
    }
   ],
   "source": [
    "# What is the relationship between Quantity vs Total\n",
    "\n",
    "sns.stripplot(data=df, x='Quantity', y='Total', jitter=True)\n",
    "plt.title(\"Quantity vs Total (Jittered)\")\n"
   ]
  },
  {
   "cell_type": "code",
   "execution_count": null,
   "id": "61bfd0b5",
   "metadata": {},
   "outputs": [],
   "source": []
  }
 ],
 "metadata": {
  "kernelspec": {
   "display_name": "Python 3",
   "language": "python",
   "name": "python3"
  },
  "language_info": {
   "codemirror_mode": {
    "name": "ipython",
    "version": 3
   },
   "file_extension": ".py",
   "mimetype": "text/x-python",
   "name": "python",
   "nbconvert_exporter": "python",
   "pygments_lexer": "ipython3",
   "version": "3.8.8"
  }
 },
 "nbformat": 4,
 "nbformat_minor": 5
}
